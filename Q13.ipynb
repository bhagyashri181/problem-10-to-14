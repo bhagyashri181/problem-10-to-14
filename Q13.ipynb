{
 "cells": [
  {
   "cell_type": "code",
   "execution_count": 1,
   "id": "631d4cb2-c45f-4adc-9693-38d7cbb19ee3",
   "metadata": {},
   "outputs": [
    {
     "name": "stdout",
     "output_type": "stream",
     "text": [
      "{'name': 'Helga', 'phone': '555-1618', 'email': 'helga@mail.net'}\n",
      "{'name': 'Princess', 'phone': '555-3141', 'email': ''}\n",
      "{'name': 'LJ', 'phone': '555-2718', 'email': 'lj@mail.net'}\n"
     ]
    }
   ],
   "source": [
    "\"\"\"Dictionaries provide a convenient way to store structured data. Here is an example dictionary:\n",
    "d=[{'name':'Todd', 'phone':'555-1414', 'email':'todd@mail.net'},\n",
    "{'name':'Helga', 'phone':'555-1618', 'email':'helga@mail.net'},\n",
    "{'name':'Princess', 'phone':'555-3141', 'email':''},\n",
    "{'name':'LJ', 'phone':'555-2718', 'email':'lj@mail.net'}]\n",
    "Write a program that reads through any dictionary like this and prints the following:\n",
    "(a) All the users whose phone number ends in an 8\n",
    "(b) All the users that don’t have an email address listed\n",
    "\n",
    "\n",
    "\"\"\"\n",
    "\n",
    "d=[{'name':'Todd', 'phone':'555-1414', 'email':'todd@mail.net'},\n",
    "{'name':'Helga', 'phone':'555-1618', 'email':'helga@mail.net'},\n",
    "{'name':'Princess', 'phone':'555-3141', 'email':''},\n",
    "{'name':'LJ', 'phone':'555-2718', 'email':'lj@mail.net'}]\n",
    "\n",
    "\n",
    "for dict  in  range(len(d)):\n",
    "    #print(d[dict])\n",
    "     dd =d[dict ]\n",
    "     for keys,values in dd.items():\n",
    "         #print(keys,values)\n",
    "         if keys == \"phone\" and values[-1] == \"8\":\n",
    "             print(dd)\n",
    "         if keys == \"email\" and values =='':\n",
    "            print(dd)"
   ]
  },
  {
   "cell_type": "code",
   "execution_count": null,
   "id": "40c7efae-7059-4886-9879-ab2bde2931d7",
   "metadata": {},
   "outputs": [],
   "source": []
  }
 ],
 "metadata": {
  "kernelspec": {
   "display_name": "Python 3 (ipykernel)",
   "language": "python",
   "name": "python3"
  },
  "language_info": {
   "codemirror_mode": {
    "name": "ipython",
    "version": 3
   },
   "file_extension": ".py",
   "mimetype": "text/x-python",
   "name": "python",
   "nbconvert_exporter": "python",
   "pygments_lexer": "ipython3",
   "version": "3.11.9"
  }
 },
 "nbformat": 4,
 "nbformat_minor": 5
}
