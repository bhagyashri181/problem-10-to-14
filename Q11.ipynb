{
 "cells": [
  {
   "cell_type": "code",
   "execution_count": 1,
   "id": "f3959a84-a387-4226-bcbe-afe34870caeb",
   "metadata": {},
   "outputs": [
    {
     "name": "stdin",
     "output_type": "stream",
     "text": [
      "Enter a word:  paradox\n"
     ]
    }
   ],
   "source": [
    "s = ''\n",
    "string = input('Enter a word: ')\n",
    "from random import randint\n",
    "\n",
    "for i in range(len(string)):\n",
    "    randindex = randint(0,(len(string)-1))\n",
    "    #a = randindex\n",
    "    s = s + string[randindex]\n",
    "    #a += 1\n",
    "    # I tried to play with this additional variable.\n",
    "    # I wanted to write s = s + string[a] instead if the line\n",
    "    # that comes in between the comments.\n",
    "    # It did not work. Probably I need an individual cycle for that...\n",
    "    # I'm sure missing something."
   ]
  },
  {
   "cell_type": "code",
   "execution_count": 1,
   "id": "96ad64ce-49f6-4885-b7c6-81a535b5a418",
   "metadata": {},
   "outputs": [
    {
     "name": "stdin",
     "output_type": "stream",
     "text": [
      "Enter a word:  valorant\n"
     ]
    },
    {
     "name": "stdout",
     "output_type": "stream",
     "text": [
      "larnavto\n"
     ]
    }
   ],
   "source": [
    "\"\"\"An anagram of a word is a word that is created by rearranging the letters of the original.\n",
    "For instance, two anagrams of idle are deli and lied. Finding anagrams that are real words is\n",
    "beyond our reach until Chapter 12.\n",
    "\n",
    "Instead, write a program that asks the user for a string\n",
    "and returns a random anagram of the string—in other words, a random rearrangement of the\n",
    "letters of that string.\"\"\"\n",
    "\n",
    "from random import shuffle\n",
    "word = input('Enter a word: ')\n",
    "new_word = list(word)\n",
    "shuffle(new_word)\n",
    "new_word_2 = ''.join(new_word)\n",
    "print(new_word_2)"
   ]
  },
  {
   "cell_type": "code",
   "execution_count": null,
   "id": "1197408a-a89b-4489-8ac3-7f58d8e080b0",
   "metadata": {},
   "outputs": [],
   "source": []
  }
 ],
 "metadata": {
  "kernelspec": {
   "display_name": "Python 3 (ipykernel)",
   "language": "python",
   "name": "python3"
  },
  "language_info": {
   "codemirror_mode": {
    "name": "ipython",
    "version": 3
   },
   "file_extension": ".py",
   "mimetype": "text/x-python",
   "name": "python",
   "nbconvert_exporter": "python",
   "pygments_lexer": "ipython3",
   "version": "3.11.9"
  }
 },
 "nbformat": 4,
 "nbformat_minor": 5
}
