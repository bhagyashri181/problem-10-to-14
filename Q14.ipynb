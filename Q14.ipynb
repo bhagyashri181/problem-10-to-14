{
 "cells": [
  {
   "cell_type": "code",
   "execution_count": 1,
   "id": "6a83003a-ed71-497c-be77-e8ae2ef39176",
   "metadata": {},
   "outputs": [
    {
     "name": "stdin",
     "output_type": "stream",
     "text": [
      "Enter Name of a month:  march\n"
     ]
    },
    {
     "name": "stdout",
     "output_type": "stream",
     "text": [
      "dict_keys(['April', 'Febuary', 'January', 'June', 'March', 'May'])\n",
      "January\n",
      "May\n",
      "{'Febuary': '28', 'March': '30', 'April': '30', 'June': '30', 'January': '31', 'May': '31'}\n"
     ]
    }
   ],
   "source": [
    "import operator\n",
    "\n",
    "year ={\"January\":\"31\",\"Febuary\":\"28\",\"March\":\"30\",\"April\":\"30\",\"May\":\"31\",\"June\":\"30\"}\n",
    "\n",
    "#a\n",
    "user_input= input(\"Enter Name of a month: \")\n",
    "#user_input = \"March\"\n",
    "for key, values in year.items():\n",
    "     if user_input == key:  #change equality sign to in to answer d\n",
    "        print( values)\n",
    "        #break\n",
    "\n",
    "\n",
    "#b\n",
    "sorted_year ={key:year[key] for key in sorted(year)}\n",
    "print(sorted_year.keys())\n",
    "\n",
    "#c\n",
    "for keys,values in year.items():\n",
    "    if int(values) == 31:\n",
    "\n",
    "      print(keys)\n",
    "\n",
    "#d\n",
    "##can sort months by changing itemgetter\n",
    "# variable to 0\n",
    "sorted_bymonthdays = dict(sorted(year.items(),key= operator.itemgetter(1)))\n",
    "print(sorted_bymonthdays)"
   ]
  },
  {
   "cell_type": "code",
   "execution_count": 2,
   "id": "272ad435-8048-46e3-bf5a-1df1353e5ea8",
   "metadata": {},
   "outputs": [
    {
     "name": "stdin",
     "output_type": "stream",
     "text": [
      "Enter Name of a month:  august\n"
     ]
    },
    {
     "name": "stdout",
     "output_type": "stream",
     "text": [
      "dict_keys(['April', 'Febuary', 'January', 'June', 'March', 'May'])\n",
      "January\n",
      "May\n",
      "{'Febuary': '28', 'March': '30', 'April': '30', 'June': '30', 'January': '31', 'May': '31'}\n"
     ]
    }
   ],
   "source": [
    "\"\"\" days = {'January':31, 'February':28, 'March':31, 'April':30,\n",
    "        'May':31, 'June':30, 'July':31, 'August':31,\n",
    "        'September':30, 'October':31, 'November':30, 'December':31}\n",
    "        For this problem, use the dictionary above\n",
    "        whose keys are month names and whose values are the number \n",
    "        of days in the corresponding months.\n",
    "        Ask the user to enter a month name and use the dictionary to tell them how many days are in the month.\n",
    "        Print out all of the keys in alphabetical order.\n",
    "        Print out all of the months with 31 days.\n",
    "        Print out the (key-value) pairs sorted by the number of days in each month\n",
    "        Modify the program from part (a) and the dictionary so that the user does not \n",
    "        have to know how to spell the month name exactly. That is, \n",
    "        all they have to do is spell the first three letters of the month name correctly.\n",
    "\"\"\"\n",
    "import operator\n",
    "\n",
    "year ={\"January\":\"31\",\"Febuary\":\"28\",\"March\":\"30\",\"April\":\"30\",\"May\":\"31\",\"June\":\"30\"}\n",
    "\n",
    "#a\n",
    "user_input= input(\"Enter Name of a month: \")\n",
    "#user_input = \"March\"\n",
    "for key, values in year.items():\n",
    "     if user_input == key:  #change equality sign to in to answer d\n",
    "        print( values)\n",
    "        #break\n",
    "\n",
    "\n",
    "#b\n",
    "sorted_year ={key:year[key] for key in sorted(year)}\n",
    "print(sorted_year.keys())\n",
    "\n",
    "#c\n",
    "for keys,values in year.items():\n",
    "    if int(values) == 31:\n",
    "\n",
    "      print(keys)\n",
    "\n",
    "#d\n",
    "##can sort months by changing itemgetter\n",
    "# variable to 0\n",
    "sorted_bymonthdays = dict(sorted(year.items(),key= operator.itemgetter(1)))\n",
    "print(sorted_bymonthdays)"
   ]
  },
  {
   "cell_type": "code",
   "execution_count": null,
   "id": "1703732b-3b3a-4644-a0ba-789319808335",
   "metadata": {},
   "outputs": [],
   "source": []
  }
 ],
 "metadata": {
  "kernelspec": {
   "display_name": "Python 3 (ipykernel)",
   "language": "python",
   "name": "python3"
  },
  "language_info": {
   "codemirror_mode": {
    "name": "ipython",
    "version": 3
   },
   "file_extension": ".py",
   "mimetype": "text/x-python",
   "name": "python",
   "nbconvert_exporter": "python",
   "pygments_lexer": "ipython3",
   "version": "3.11.9"
  }
 },
 "nbformat": 4,
 "nbformat_minor": 5
}
