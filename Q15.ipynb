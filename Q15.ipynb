{
 "cells": [
  {
   "cell_type": "code",
   "execution_count": null,
   "id": "12e2b0cc-9b8a-4a80-b432-28448aae9051",
   "metadata": {},
   "outputs": [
    {
     "name": "stdin",
     "output_type": "stream",
     "text": [
      "Enter Password:  madmax\n"
     ]
    },
    {
     "name": "stdout",
     "output_type": "stream",
     "text": [
      "Wrong Password Number of tries left 4\n"
     ]
    }
   ],
   "source": [
    "\"\"\"Write a program that asks the user to enter a password. If the user enters the right password,\n",
    "the program should tell them they are logged in to the system. Otherwise, the program\n",
    "should ask them to reenter the password. The user should only get five tries to enter the\n",
    "password, after which point the program should tell them that they are kicked off of the\n",
    "system.\"\"\"\n",
    "\n",
    "numberoftries = 0\n",
    "\n",
    "while numberoftries < 5:\n",
    "    rightpass =\"henry\"\n",
    "    askuserpass=input(\"Enter Password: \")\n",
    "\n",
    "    if askuserpass == rightpass:\n",
    "        print(\"User Access Granted\")\n",
    "        numberoftries += 1\n",
    "        break\n",
    "    else:\n",
    "        numberoftries += 1\n",
    "        print(\"Wrong Password\",\"Number of tries left\",5-numberoftries)"
   ]
  },
  {
   "cell_type": "code",
   "execution_count": null,
   "id": "644b3820-cddf-4de0-81ae-efca466fe68e",
   "metadata": {},
   "outputs": [],
   "source": []
  }
 ],
 "metadata": {
  "kernelspec": {
   "display_name": "Python 3 (ipykernel)",
   "language": "python",
   "name": "python3"
  },
  "language_info": {
   "codemirror_mode": {
    "name": "ipython",
    "version": 3
   },
   "file_extension": ".py",
   "mimetype": "text/x-python",
   "name": "python",
   "nbconvert_exporter": "python",
   "pygments_lexer": "ipython3",
   "version": "3.11.9"
  }
 },
 "nbformat": 4,
 "nbformat_minor": 5
}
