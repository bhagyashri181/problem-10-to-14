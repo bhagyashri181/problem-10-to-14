{
 "cells": [
  {
   "cell_type": "code",
   "execution_count": 1,
   "id": "f0733678-04f5-4731-98c3-ce4b6c42c800",
   "metadata": {},
   "outputs": [
    {
     "name": "stdout",
     "output_type": "stream",
     "text": [
      "Welcome to Phone Number Validation.\n",
      "\n",
      "The phone number format is 1-ABC-DEF-GHIJ or ABC-DEF-GHIJ.\n"
     ]
    },
    {
     "name": "stdin",
     "output_type": "stream",
     "text": [
      "Enter a valid phone number:  1-yhg-hts-ifrs\n"
     ]
    },
    {
     "name": "stdout",
     "output_type": "stream",
     "text": [
      "\n",
      "The number, 1-yhg-hts-ifrs, is valid.\n"
     ]
    }
   ],
   "source": [
    "\"\"\"\n",
    "Write a program that gets a string from the user containing a potential telephone number.\n",
    "The program should print Valid if it decides the phone number is a real phone number, and\n",
    "Invalid otherwise. A phone number is considered valid as long as it is written in the form\n",
    "abc-def-hijk or 1-abc-def-hijk. The dashes must be included, the phone number should contain\n",
    "only numbers and dashes, and the number of digits in each group must be correct.\n",
    "\"\"\"\n",
    "\n",
    "def validate_input(message):\n",
    "    valid = False\n",
    "    while not valid:\n",
    "        user_input = input(message)\n",
    "        num = user_input.split('-')\n",
    "        try:\n",
    "            if (len(num[0]) == 1) and (len(num[1]) == 3) and (len(num[2]) == 3) and (len(num[3]) == 4):\n",
    "                valid = True\n",
    "            elif (len(num[0]) == 3) and (len(num[1]) == 3) and (len(num[2]) == 4):\n",
    "                valid = True\n",
    "            else:\n",
    "                print('Your format is off. Please enter a valid phone number.')\n",
    "        except IndexError:\n",
    "            print('A phone number was not inputted.')\n",
    "    return user_input\n",
    "\n",
    "def main():\n",
    "    print('Welcome to Phone Number Validation.\\n')\n",
    "    print('The phone number format is 1-ABC-DEF-GHIJ or ABC-DEF-GHIJ.')\n",
    "    message = 'Enter a valid phone number: '\n",
    "    valid_num = validate_input(message)\n",
    "    print(f'\\nThe number, {valid_num}, is valid.')\n",
    "\n",
    "if __name__ == '__main__':\n",
    "    main()"
   ]
  },
  {
   "cell_type": "code",
   "execution_count": null,
   "id": "c1841e9c-5c56-4e54-bec5-5f4c5a37203c",
   "metadata": {},
   "outputs": [],
   "source": []
  }
 ],
 "metadata": {
  "kernelspec": {
   "display_name": "Python 3 (ipykernel)",
   "language": "python",
   "name": "python3"
  },
  "language_info": {
   "codemirror_mode": {
    "name": "ipython",
    "version": 3
   },
   "file_extension": ".py",
   "mimetype": "text/x-python",
   "name": "python",
   "nbconvert_exporter": "python",
   "pygments_lexer": "ipython3",
   "version": "3.11.9"
  }
 },
 "nbformat": 4,
 "nbformat_minor": 5
}
