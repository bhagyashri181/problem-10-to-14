{
 "cells": [
  {
   "cell_type": "code",
   "execution_count": null,
   "id": "e159cd0e-14e8-4998-827b-e964cf99ca75",
   "metadata": {},
   "outputs": [
    {
     "name": "stdout",
     "output_type": "stream",
     "text": [
      "Welcome to the Simple Encryption and Decryption Program.\n",
      "\n",
      "Enter \"1\" to type in a string to encrypt and decrypt.\n",
      "Enter \"2\" to exit the program.\n",
      "\n"
     ]
    },
    {
     "name": "stdin",
     "output_type": "stream",
     "text": [
      "Enter your choice (1 or 2):  1\n",
      "Please input your message:  silver cat black to the yellow\n"
     ]
    },
    {
     "name": "stdout",
     "output_type": "stream",
     "text": [
      "\n",
      "The original message was silver cat black to the yellow.\n",
      "The encrypted message is sle a lc oteyloivrctbakt h elw.\n",
      "The decypted message is silver cat black to the yellow.\n",
      "\n",
      "\n",
      "Welcome to the Simple Encryption and Decryption Program.\n",
      "\n",
      "Enter \"1\" to type in a string to encrypt and decrypt.\n",
      "Enter \"2\" to exit the program.\n",
      "\n"
     ]
    }
   ],
   "source": [
    "\"\"\"\n",
    "A simple way of encrypting a message is to rearrange its characters. One way to rearrange the\n",
    "characters is to pick out the characters at even indices, put them first in the encrypted string,\n",
    "and follow them by the odd characters. For example, the string message would be encrypted\n",
    "as msaeesg because the even characters are m, s, a, e (at indices 0, 2, 4, and 6) and the odd\n",
    "characters are e, s, g (at indices 1, 3, and 5).\n",
    "\n",
    "(a) Write a program that asks the user for a string and uses this method to encrypt the string.\n",
    "(b) Write a program that decrypts a string that was encrypted with this method.\n",
    "\"\"\"\n",
    "\n",
    "from sys import exit\n",
    "from itertools import zip_longest\n",
    "\n",
    "def encryption(message):\n",
    "    even_enc = ''\n",
    "    odd_enc = ''\n",
    "    for i in range(len(message)):\n",
    "        if i % 2 == 0:\n",
    "            even_enc += message[i]\n",
    "        else:\n",
    "            odd_enc += message[i]\n",
    "    encrypt = even_enc + odd_enc\n",
    "    decryption(encrypt)        \n",
    "\n",
    "def decryption(encrypt):\n",
    "    decrypt = ''\n",
    "    str_len = len(encrypt)\n",
    "    if str_len % 2 == 0:\n",
    "        i = int(str_len / 2)\n",
    "        even_dec = encrypt[:i]\n",
    "        odd_dec = encrypt[i:]\n",
    "    else:\n",
    "        i = int(((str_len + 1) / 2))\n",
    "        even_dec = encrypt[:i]\n",
    "        odd_dec = encrypt[i:]\n",
    "    for (j, k) in zip_longest(even_dec, odd_dec):\n",
    "        if j is not None:\n",
    "            decrypt += j\n",
    "        if k is not None:\n",
    "            decrypt += k\n",
    "        else:\n",
    "            continue\n",
    "    show(message, encrypt, decrypt)\n",
    "\n",
    "def show(message, encrypt, decrypt):\n",
    "    print('')\n",
    "    print(f'The original message was {message}.')\n",
    "    print(f'The encrypted message is {encrypt}.')\n",
    "    print(f'The decypted message is {decrypt}.')\n",
    "    print('')\n",
    "    print('')\n",
    "\n",
    "if __name__ == '__main__':\n",
    "    choices = ['1', '2']\n",
    "    while True:\n",
    "        print('Welcome to the Simple Encryption and Decryption Program.')\n",
    "        print('')\n",
    "        print('Enter \"1\" to type in a string to encrypt and decrypt.')\n",
    "        print('Enter \"2\" to exit the program.')\n",
    "        print('')\n",
    "        choice = ''\n",
    "        while choice not in choices:\n",
    "            choice = input('Enter your choice (1 or 2): ')\n",
    "            continue\n",
    "        if choice == '1':\n",
    "            message = input('Please input your message: ')\n",
    "            encryption(message)\n",
    "        else:\n",
    "            exit()"
   ]
  },
  {
   "cell_type": "code",
   "execution_count": null,
   "id": "bef5bb33-9104-45f4-8dcf-f5252e70cc0d",
   "metadata": {},
   "outputs": [],
   "source": []
  }
 ],
 "metadata": {
  "kernelspec": {
   "display_name": "Python 3 (ipykernel)",
   "language": "python",
   "name": "python3"
  },
  "language_info": {
   "codemirror_mode": {
    "name": "ipython",
    "version": 3
   },
   "file_extension": ".py",
   "mimetype": "text/x-python",
   "name": "python",
   "nbconvert_exporter": "python",
   "pygments_lexer": "ipython3",
   "version": "3.11.9"
  }
 },
 "nbformat": 4,
 "nbformat_minor": 5
}
